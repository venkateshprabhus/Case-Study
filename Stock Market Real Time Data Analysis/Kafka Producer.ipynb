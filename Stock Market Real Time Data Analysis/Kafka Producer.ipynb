{
 "cells": [
  {
   "cell_type": "code",
   "execution_count": 62,
   "id": "3ead108c-7064-4be7-9983-84ac169a8115",
   "metadata": {
    "collapsed": true,
    "jupyter": {
     "outputs_hidden": true
    },
    "scrolled": true
   },
   "outputs": [
    {
     "name": "stdout",
     "output_type": "stream",
     "text": [
      "Requirement already satisfied: kafka-python in c:\\users\\venka\\appdata\\local\\programs\\python\\python312\\lib\\site-packages (2.0.2)\n",
      "Requirement already satisfied: kafka-python-ng in c:\\users\\venka\\appdata\\local\\programs\\python\\python312\\lib\\site-packages (2.2.2)\n",
      "Requirement already satisfied: confluent_kafka in c:\\users\\venka\\appdata\\local\\programs\\python\\python312\\lib\\site-packages (2.5.3)\n",
      "Note: you may need to restart the kernel to use updated packages.\n"
     ]
    }
   ],
   "source": [
    "pip install kafka-python kafka-python-ng confluent_kafka"
   ]
  },
  {
   "cell_type": "code",
   "execution_count": 5,
   "id": "98f20cb2-0d85-46a0-b7a6-3d627b4ce2c4",
   "metadata": {},
   "outputs": [],
   "source": [
    "import pandas as pd\n",
    "from confluent_kafka import Producer\n",
    "from kafka import KafkaProducer, KafkaConsumer\n",
    "from time import sleep\n",
    "from json import dumps\n",
    "import json\n",
    "import requests\n",
    "import os"
   ]
  },
  {
   "cell_type": "raw",
   "id": "35be91e6-c9fd-4d84-aa35-55ae85833812",
   "metadata": {},
   "source": [
    "##Method-1\n",
    "from confluent_kafka import Producer\n",
    "producer = Producer({'bootstrap.servers': '13.201.85.114:9092'})\n",
    "producer.produce('Stockmarket', value = 'Hi from python5')        ######## Testing producer with method1"
   ]
  },
  {
   "cell_type": "code",
   "execution_count": 6,
   "id": "dd16f24a-82ab-44f6-8ffc-c104eb8eefc7",
   "metadata": {
    "scrolled": true
   },
   "outputs": [
    {
     "name": "stdout",
     "output_type": "stream",
     "text": [
      "{'Meta Data': {'1. Information': 'Intraday (1min) open, high, low, close prices and volume', '2. Symbol': 'INFY', '3. Last Refreshed': '2024-09-13 19:39:00', '4. Interval': '1min', '5. Output Size': 'Compact', '6. Time Zone': 'US/Eastern'}, 'Time Series (1min)': {'2024-09-13 19:39:00': {'1. open': '23.2400', '2. high': '23.2400', '3. low': '23.2400', '4. close': '23.2400', '5. volume': '10'}, '2024-09-13 19:07:00': {'1. open': '23.2100', '2. high': '23.2100', '3. low': '23.2100', '4. close': '23.2100', '5. volume': '5'}, '2024-09-13 19:00:00': {'1. open': '23.2000', '2. high': '23.2000', '3. low': '23.2000', '4. close': '23.2000', '5. volume': '159376'}, '2024-09-13 18:41:00': {'1. open': '23.1900', '2. high': '23.1900', '3. low': '23.1900', '4. close': '23.1900', '5. volume': '1'}, '2024-09-13 18:38:00': {'1. open': '23.2386', '2. high': '23.2386', '3. low': '23.2386', '4. close': '23.2386', '5. volume': '1'}, '2024-09-13 18:30:00': {'1. open': '23.2000', '2. high': '23.2000', '3. low': '23.2000', '4. close': '23.2000', '5. volume': '159376'}, '2024-09-13 18:28:00': {'1. open': '23.2400', '2. high': '23.2400', '3. low': '23.2400', '4. close': '23.2400', '5. volume': '1'}, '2024-09-13 18:25:00': {'1. open': '23.2200', '2. high': '23.2200', '3. low': '23.2200', '4. close': '23.2200', '5. volume': '4'}, '2024-09-13 17:34:00': {'1. open': '23.1800', '2. high': '23.1800', '3. low': '23.1800', '4. close': '23.1800', '5. volume': '2'}, '2024-09-13 17:01:00': {'1. open': '23.2400', '2. high': '23.2400', '3. low': '23.2400', '4. close': '23.2400', '5. volume': '1'}, '2024-09-13 16:12:00': {'1. open': '23.1800', '2. high': '23.1800', '3. low': '23.1800', '4. close': '23.1800', '5. volume': '10'}, '2024-09-13 16:11:00': {'1. open': '23.2000', '2. high': '23.2000', '3. low': '23.2000', '4. close': '23.2000', '5. volume': '2184'}, '2024-09-13 16:10:00': {'1. open': '23.2000', '2. high': '23.2000', '3. low': '23.2000', '4. close': '23.2000', '5. volume': '159376'}, '2024-09-13 16:00:00': {'1. open': '23.1900', '2. high': '23.2000', '3. low': '23.1900', '4. close': '23.2000', '5. volume': '358176'}, '2024-09-13 15:59:00': {'1. open': '23.2050', '2. high': '23.2100', '3. low': '23.1900', '4. close': '23.1900', '5. volume': '144583'}, '2024-09-13 15:58:00': {'1. open': '23.2050', '2. high': '23.2100', '3. low': '23.2000', '4. close': '23.2100', '5. volume': '49782'}, '2024-09-13 15:57:00': {'1. open': '23.1950', '2. high': '23.2100', '3. low': '23.1950', '4. close': '23.2050', '5. volume': '59771'}, '2024-09-13 15:56:00': {'1. open': '23.1950', '2. high': '23.2000', '3. low': '23.1950', '4. close': '23.2000', '5. volume': '19878'}, '2024-09-13 15:55:00': {'1. open': '23.2000', '2. high': '23.2000', '3. low': '23.1900', '4. close': '23.2000', '5. volume': '17271'}, '2024-09-13 15:54:00': {'1. open': '23.1950', '2. high': '23.2000', '3. low': '23.1950', '4. close': '23.2000', '5. volume': '13756'}, '2024-09-13 15:53:00': {'1. open': '23.1900', '2. high': '23.1950', '3. low': '23.1900', '4. close': '23.1950', '5. volume': '18208'}, '2024-09-13 15:52:00': {'1. open': '23.1850', '2. high': '23.1950', '3. low': '23.1800', '4. close': '23.1950', '5. volume': '29043'}, '2024-09-13 15:51:00': {'1. open': '23.1850', '2. high': '23.1883', '3. low': '23.1850', '4. close': '23.1883', '5. volume': '14491'}, '2024-09-13 15:50:00': {'1. open': '23.1850', '2. high': '23.1875', '3. low': '23.1800', '4. close': '23.1850', '5. volume': '7965'}, '2024-09-13 15:49:00': {'1. open': '23.1850', '2. high': '23.1899', '3. low': '23.1800', '4. close': '23.1850', '5. volume': '14228'}, '2024-09-13 15:48:00': {'1. open': '23.1850', '2. high': '23.1900', '3. low': '23.1850', '4. close': '23.1850', '5. volume': '8969'}, '2024-09-13 15:47:00': {'1. open': '23.1850', '2. high': '23.1900', '3. low': '23.1800', '4. close': '23.1850', '5. volume': '7071'}, '2024-09-13 15:46:00': {'1. open': '23.1750', '2. high': '23.1900', '3. low': '23.1750', '4. close': '23.1900', '5. volume': '19889'}, '2024-09-13 15:45:00': {'1. open': '23.1650', '2. high': '23.1800', '3. low': '23.1650', '4. close': '23.1750', '5. volume': '25524'}, '2024-09-13 15:44:00': {'1. open': '23.1610', '2. high': '23.1650', '3. low': '23.1500', '4. close': '23.1650', '5. volume': '33113'}, '2024-09-13 15:43:00': {'1. open': '23.1650', '2. high': '23.1700', '3. low': '23.1600', '4. close': '23.1650', '5. volume': '4435'}, '2024-09-13 15:42:00': {'1. open': '23.1650', '2. high': '23.1650', '3. low': '23.1650', '4. close': '23.1650', '5. volume': '3319'}, '2024-09-13 15:41:00': {'1. open': '23.1650', '2. high': '23.1650', '3. low': '23.1600', '4. close': '23.1650', '5. volume': '5657'}, '2024-09-13 15:40:00': {'1. open': '23.1650', '2. high': '23.1700', '3. low': '23.1650', '4. close': '23.1650', '5. volume': '8149'}, '2024-09-13 15:39:00': {'1. open': '23.1600', '2. high': '23.1650', '3. low': '23.1600', '4. close': '23.1650', '5. volume': '3378'}, '2024-09-13 15:38:00': {'1. open': '23.1750', '2. high': '23.1750', '3. low': '23.1600', '4. close': '23.1650', '5. volume': '9501'}, '2024-09-13 15:37:00': {'1. open': '23.1700', '2. high': '23.1750', '3. low': '23.1700', '4. close': '23.1700', '5. volume': '5456'}, '2024-09-13 15:36:00': {'1. open': '23.1800', '2. high': '23.1800', '3. low': '23.1700', '4. close': '23.1700', '5. volume': '18387'}, '2024-09-13 15:35:00': {'1. open': '23.1850', '2. high': '23.1850', '3. low': '23.1800', '4. close': '23.1850', '5. volume': '9426'}, '2024-09-13 15:34:00': {'1. open': '23.1850', '2. high': '23.1850', '3. low': '23.1800', '4. close': '23.1850', '5. volume': '4034'}, '2024-09-13 15:33:00': {'1. open': '23.1850', '2. high': '23.1850', '3. low': '23.1850', '4. close': '23.1850', '5. volume': '3129'}, '2024-09-13 15:32:00': {'1. open': '23.1850', '2. high': '23.1850', '3. low': '23.1800', '4. close': '23.1850', '5. volume': '2469'}, '2024-09-13 15:31:00': {'1. open': '23.1950', '2. high': '23.1950', '3. low': '23.1850', '4. close': '23.1900', '5. volume': '6645'}, '2024-09-13 15:30:00': {'1. open': '23.2100', '2. high': '23.2100', '3. low': '23.1900', '4. close': '23.1900', '5. volume': '10407'}, '2024-09-13 15:29:00': {'1. open': '23.2050', '2. high': '23.2050', '3. low': '23.2000', '4. close': '23.2050', '5. volume': '6967'}, '2024-09-13 15:28:00': {'1. open': '23.2000', '2. high': '23.2050', '3. low': '23.2000', '4. close': '23.2050', '5. volume': '914'}, '2024-09-13 15:27:00': {'1. open': '23.2050', '2. high': '23.2100', '3. low': '23.2000', '4. close': '23.2000', '5. volume': '18280'}, '2024-09-13 15:26:00': {'1. open': '23.2100', '2. high': '23.2100', '3. low': '23.2050', '4. close': '23.2050', '5. volume': '4545'}, '2024-09-13 15:25:00': {'1. open': '23.2000', '2. high': '23.2100', '3. low': '23.1950', '4. close': '23.2050', '5. volume': '18088'}, '2024-09-13 15:24:00': {'1. open': '23.2000', '2. high': '23.2000', '3. low': '23.1950', '4. close': '23.2000', '5. volume': '1476'}, '2024-09-13 15:23:00': {'1. open': '23.2000', '2. high': '23.2000', '3. low': '23.1949', '4. close': '23.2000', '5. volume': '1914'}, '2024-09-13 15:22:00': {'1. open': '23.1950', '2. high': '23.2000', '3. low': '23.1950', '4. close': '23.1950', '5. volume': '933'}, '2024-09-13 15:21:00': {'1. open': '23.2000', '2. high': '23.2000', '3. low': '23.1950', '4. close': '23.1950', '5. volume': '3471'}, '2024-09-13 15:20:00': {'1. open': '23.1950', '2. high': '23.2000', '3. low': '23.1900', '4. close': '23.2000', '5. volume': '2489'}, '2024-09-13 15:19:00': {'1. open': '23.1950', '2. high': '23.2000', '3. low': '23.1900', '4. close': '23.1900', '5. volume': '2341'}, '2024-09-13 15:18:00': {'1. open': '23.2000', '2. high': '23.2050', '3. low': '23.1901', '4. close': '23.1950', '5. volume': '19164'}, '2024-09-13 15:17:00': {'1. open': '23.1999', '2. high': '23.2000', '3. low': '23.1950', '4. close': '23.2000', '5. volume': '3515'}, '2024-09-13 15:16:00': {'1. open': '23.1900', '2. high': '23.1950', '3. low': '23.1900', '4. close': '23.1950', '5. volume': '9821'}, '2024-09-13 15:15:00': {'1. open': '23.1850', '2. high': '23.1900', '3. low': '23.1850', '4. close': '23.1900', '5. volume': '6756'}, '2024-09-13 15:14:00': {'1. open': '23.1850', '2. high': '23.1863', '3. low': '23.1850', '4. close': '23.1850', '5. volume': '1274'}, '2024-09-13 15:13:00': {'1. open': '23.1850', '2. high': '23.1850', '3. low': '23.1850', '4. close': '23.1850', '5. volume': '610'}, '2024-09-13 15:12:00': {'1. open': '23.1850', '2. high': '23.1850', '3. low': '23.1800', '4. close': '23.1850', '5. volume': '1206'}, '2024-09-13 15:11:00': {'1. open': '23.1875', '2. high': '23.1875', '3. low': '23.1800', '4. close': '23.1800', '5. volume': '15419'}, '2024-09-13 15:10:00': {'1. open': '23.1900', '2. high': '23.1900', '3. low': '23.1850', '4. close': '23.1850', '5. volume': '451'}, '2024-09-13 15:09:00': {'1. open': '23.1900', '2. high': '23.1900', '3. low': '23.1850', '4. close': '23.1850', '5. volume': '1028'}, '2024-09-13 15:08:00': {'1. open': '23.1900', '2. high': '23.1900', '3. low': '23.1850', '4. close': '23.1850', '5. volume': '1894'}, '2024-09-13 15:07:00': {'1. open': '23.1850', '2. high': '23.1900', '3. low': '23.1850', '4. close': '23.1900', '5. volume': '5797'}, '2024-09-13 15:06:00': {'1. open': '23.1800', '2. high': '23.1900', '3. low': '23.1750', '4. close': '23.1900', '5. volume': '9441'}, '2024-09-13 15:05:00': {'1. open': '23.1600', '2. high': '23.1800', '3. low': '23.1600', '4. close': '23.1800', '5. volume': '22354'}, '2024-09-13 15:04:00': {'1. open': '23.1600', '2. high': '23.1650', '3. low': '23.1600', '4. close': '23.1600', '5. volume': '1245'}, '2024-09-13 15:03:00': {'1. open': '23.1600', '2. high': '23.1650', '3. low': '23.1600', '4. close': '23.1600', '5. volume': '1700'}, '2024-09-13 15:02:00': {'1. open': '23.1650', '2. high': '23.1700', '3. low': '23.1600', '4. close': '23.1700', '5. volume': '1993'}, '2024-09-13 15:01:00': {'1. open': '23.1650', '2. high': '23.1650', '3. low': '23.1600', '4. close': '23.1600', '5. volume': '2733'}, '2024-09-13 15:00:00': {'1. open': '23.1600', '2. high': '23.1650', '3. low': '23.1600', '4. close': '23.1650', '5. volume': '6664'}, '2024-09-13 14:59:00': {'1. open': '23.1650', '2. high': '23.1650', '3. low': '23.1650', '4. close': '23.1650', '5. volume': '1440'}, '2024-09-13 14:58:00': {'1. open': '23.1650', '2. high': '23.1650', '3. low': '23.1650', '4. close': '23.1650', '5. volume': '597'}, '2024-09-13 14:57:00': {'1. open': '23.1650', '2. high': '23.1700', '3. low': '23.1650', '4. close': '23.1650', '5. volume': '5862'}, '2024-09-13 14:56:00': {'1. open': '23.1600', '2. high': '23.1700', '3. low': '23.1550', '4. close': '23.1700', '5. volume': '28921'}, '2024-09-13 14:55:00': {'1. open': '23.1600', '2. high': '23.1650', '3. low': '23.1600', '4. close': '23.1600', '5. volume': '10948'}, '2024-09-13 14:54:00': {'1. open': '23.1650', '2. high': '23.1650', '3. low': '23.1650', '4. close': '23.1650', '5. volume': '5092'}, '2024-09-13 14:53:00': {'1. open': '23.1700', '2. high': '23.1700', '3. low': '23.1650', '4. close': '23.1650', '5. volume': '8043'}, '2024-09-13 14:52:00': {'1. open': '23.1700', '2. high': '23.1750', '3. low': '23.1700', '4. close': '23.1700', '5. volume': '5595'}, '2024-09-13 14:51:00': {'1. open': '23.1750', '2. high': '23.1750', '3. low': '23.1700', '4. close': '23.1750', '5. volume': '1903'}, '2024-09-13 14:50:00': {'1. open': '23.1700', '2. high': '23.1700', '3. low': '23.1700', '4. close': '23.1700', '5. volume': '2211'}, '2024-09-13 14:49:00': {'1. open': '23.1750', '2. high': '23.1750', '3. low': '23.1700', '4. close': '23.1700', '5. volume': '8314'}, '2024-09-13 14:48:00': {'1. open': '23.1750', '2. high': '23.1750', '3. low': '23.1750', '4. close': '23.1750', '5. volume': '3322'}, '2024-09-13 14:47:00': {'1. open': '23.1800', '2. high': '23.1800', '3. low': '23.1750', '4. close': '23.1750', '5. volume': '627'}, '2024-09-13 14:46:00': {'1. open': '23.1750', '2. high': '23.1800', '3. low': '23.1750', '4. close': '23.1800', '5. volume': '1422'}, '2024-09-13 14:45:00': {'1. open': '23.1750', '2. high': '23.1800', '3. low': '23.1750', '4. close': '23.1800', '5. volume': '6159'}, '2024-09-13 14:44:00': {'1. open': '23.1779', '2. high': '23.1779', '3. low': '23.1750', '4. close': '23.1750', '5. volume': '2839'}, '2024-09-13 14:43:00': {'1. open': '23.1850', '2. high': '23.1850', '3. low': '23.1750', '4. close': '23.1750', '5. volume': '5575'}, '2024-09-13 14:42:00': {'1. open': '23.1750', '2. high': '23.1850', '3. low': '23.1750', '4. close': '23.1850', '5. volume': '11741'}, '2024-09-13 14:41:00': {'1. open': '23.1700', '2. high': '23.1750', '3. low': '23.1700', '4. close': '23.1750', '5. volume': '812'}, '2024-09-13 14:40:00': {'1. open': '23.1750', '2. high': '23.1750', '3. low': '23.1700', '4. close': '23.1700', '5. volume': '3967'}, '2024-09-13 14:39:00': {'1. open': '23.1700', '2. high': '23.1750', '3. low': '23.1700', '4. close': '23.1750', '5. volume': '1014'}, '2024-09-13 14:38:00': {'1. open': '23.1750', '2. high': '23.1799', '3. low': '23.1750', '4. close': '23.1799', '5. volume': '2462'}, '2024-09-13 14:37:00': {'1. open': '23.1750', '2. high': '23.1750', '3. low': '23.1750', '4. close': '23.1750', '5. volume': '943'}, '2024-09-13 14:36:00': {'1. open': '23.1750', '2. high': '23.1800', '3. low': '23.1700', '4. close': '23.1750', '5. volume': '2104'}, '2024-09-13 14:35:00': {'1. open': '23.1850', '2. high': '23.1850', '3. low': '23.1750', '4. close': '23.1750', '5. volume': '11822'}, '2024-09-13 14:34:00': {'1. open': '23.1900', '2. high': '23.1950', '3. low': '23.1850', '4. close': '23.1850', '5. volume': '16754'}}}\n"
     ]
    }
   ],
   "source": [
    "api_key = os.getenv('ALPHA_VANTAGE_API_KEY')\n",
    "url = 'https://www.alphavantage.co/query?function=TIME_SERIES_INTRADAY&symbol=INFY&interval=1min&apikey=api_key'\n",
    "r = requests.get(url)\n",
    "data = r.json()\n",
    "print(data)                                      ########## Since this API is providing data on daily basis instead of second by second \n",
    "                                                 ########## we are using the downloaded data in method 2"
   ]
  },
  {
   "cell_type": "code",
   "execution_count": 8,
   "id": "fa6bbc7a-ebd2-47fb-82d5-6390492511e8",
   "metadata": {},
   "outputs": [],
   "source": [
    "##Method-2\n",
    "from kafka import KafkaProducer, KafkaConsumer\n",
    "\n",
    "producer = KafkaProducer(bootstrap_servers = ['13.201.85.114:9092'],value_serializer=lambda x:dumps(x).encode('utf-8'))\n",
    "##producer.send('Stockmarket', value = {'Hello7':'galaxy6'})                                             ######### Testing producer with method 2"
   ]
  },
  {
   "cell_type": "code",
   "execution_count": 9,
   "id": "511f1a5a-ebea-4710-8bd8-36fdbb698bdf",
   "metadata": {},
   "outputs": [],
   "source": [
    "Stockdata = pd.read_csv('indexProcessed.csv')"
   ]
  },
  {
   "cell_type": "code",
   "execution_count": 10,
   "id": "6575c4ee-82c0-49f0-99af-fb9497e83929",
   "metadata": {},
   "outputs": [
    {
     "data": {
      "text/html": [
       "<div>\n",
       "<style scoped>\n",
       "    .dataframe tbody tr th:only-of-type {\n",
       "        vertical-align: middle;\n",
       "    }\n",
       "\n",
       "    .dataframe tbody tr th {\n",
       "        vertical-align: top;\n",
       "    }\n",
       "\n",
       "    .dataframe thead th {\n",
       "        text-align: right;\n",
       "    }\n",
       "</style>\n",
       "<table border=\"1\" class=\"dataframe\">\n",
       "  <thead>\n",
       "    <tr style=\"text-align: right;\">\n",
       "      <th></th>\n",
       "      <th>Index</th>\n",
       "      <th>Date</th>\n",
       "      <th>Open</th>\n",
       "      <th>High</th>\n",
       "      <th>Low</th>\n",
       "      <th>Close</th>\n",
       "      <th>Adj Close</th>\n",
       "      <th>Volume</th>\n",
       "      <th>CloseUSD</th>\n",
       "    </tr>\n",
       "  </thead>\n",
       "  <tbody>\n",
       "    <tr>\n",
       "      <th>0</th>\n",
       "      <td>HSI</td>\n",
       "      <td>1986-12-31</td>\n",
       "      <td>2568.300049</td>\n",
       "      <td>2568.300049</td>\n",
       "      <td>2568.300049</td>\n",
       "      <td>2568.300049</td>\n",
       "      <td>2568.300049</td>\n",
       "      <td>0.0</td>\n",
       "      <td>333.879006</td>\n",
       "    </tr>\n",
       "    <tr>\n",
       "      <th>1</th>\n",
       "      <td>HSI</td>\n",
       "      <td>1987-01-02</td>\n",
       "      <td>2540.100098</td>\n",
       "      <td>2540.100098</td>\n",
       "      <td>2540.100098</td>\n",
       "      <td>2540.100098</td>\n",
       "      <td>2540.100098</td>\n",
       "      <td>0.0</td>\n",
       "      <td>330.213013</td>\n",
       "    </tr>\n",
       "    <tr>\n",
       "      <th>2</th>\n",
       "      <td>HSI</td>\n",
       "      <td>1987-01-05</td>\n",
       "      <td>2552.399902</td>\n",
       "      <td>2552.399902</td>\n",
       "      <td>2552.399902</td>\n",
       "      <td>2552.399902</td>\n",
       "      <td>2552.399902</td>\n",
       "      <td>0.0</td>\n",
       "      <td>331.811987</td>\n",
       "    </tr>\n",
       "    <tr>\n",
       "      <th>3</th>\n",
       "      <td>HSI</td>\n",
       "      <td>1987-01-06</td>\n",
       "      <td>2583.899902</td>\n",
       "      <td>2583.899902</td>\n",
       "      <td>2583.899902</td>\n",
       "      <td>2583.899902</td>\n",
       "      <td>2583.899902</td>\n",
       "      <td>0.0</td>\n",
       "      <td>335.906987</td>\n",
       "    </tr>\n",
       "    <tr>\n",
       "      <th>4</th>\n",
       "      <td>HSI</td>\n",
       "      <td>1987-01-07</td>\n",
       "      <td>2607.100098</td>\n",
       "      <td>2607.100098</td>\n",
       "      <td>2607.100098</td>\n",
       "      <td>2607.100098</td>\n",
       "      <td>2607.100098</td>\n",
       "      <td>0.0</td>\n",
       "      <td>338.923013</td>\n",
       "    </tr>\n",
       "  </tbody>\n",
       "</table>\n",
       "</div>"
      ],
      "text/plain": [
       "  Index        Date         Open         High          Low        Close  \\\n",
       "0   HSI  1986-12-31  2568.300049  2568.300049  2568.300049  2568.300049   \n",
       "1   HSI  1987-01-02  2540.100098  2540.100098  2540.100098  2540.100098   \n",
       "2   HSI  1987-01-05  2552.399902  2552.399902  2552.399902  2552.399902   \n",
       "3   HSI  1987-01-06  2583.899902  2583.899902  2583.899902  2583.899902   \n",
       "4   HSI  1987-01-07  2607.100098  2607.100098  2607.100098  2607.100098   \n",
       "\n",
       "     Adj Close  Volume    CloseUSD  \n",
       "0  2568.300049     0.0  333.879006  \n",
       "1  2540.100098     0.0  330.213013  \n",
       "2  2552.399902     0.0  331.811987  \n",
       "3  2583.899902     0.0  335.906987  \n",
       "4  2607.100098     0.0  338.923013  "
      ]
     },
     "execution_count": 10,
     "metadata": {},
     "output_type": "execute_result"
    }
   ],
   "source": [
    "Stockdata.head()"
   ]
  },
  {
   "cell_type": "code",
   "execution_count": 11,
   "id": "39531af4-9a68-4291-9725-0ac55e997da4",
   "metadata": {
    "collapsed": true,
    "jupyter": {
     "outputs_hidden": true
    }
   },
   "outputs": [
    {
     "ename": "KeyboardInterrupt",
     "evalue": "",
     "output_type": "error",
     "traceback": [
      "\u001b[1;31m---------------------------------------------------------------------------\u001b[0m",
      "\u001b[1;31mKeyboardInterrupt\u001b[0m                         Traceback (most recent call last)",
      "Cell \u001b[1;32mIn[11], line 4\u001b[0m\n\u001b[0;32m      2\u001b[0m dict_stock \u001b[38;5;241m=\u001b[39m Stockdata\u001b[38;5;241m.\u001b[39msample(\u001b[38;5;241m1\u001b[39m)\u001b[38;5;241m.\u001b[39mto_dict(orient\u001b[38;5;241m=\u001b[39m\u001b[38;5;124m\"\u001b[39m\u001b[38;5;124mrecords\u001b[39m\u001b[38;5;124m\"\u001b[39m)[\u001b[38;5;241m0\u001b[39m]\n\u001b[0;32m      3\u001b[0m producer\u001b[38;5;241m.\u001b[39msend(\u001b[38;5;124m'\u001b[39m\u001b[38;5;124mStockmarket\u001b[39m\u001b[38;5;124m'\u001b[39m, value\u001b[38;5;241m=\u001b[39mdict_stock)\n\u001b[1;32m----> 4\u001b[0m \u001b[43msleep\u001b[49m\u001b[43m(\u001b[49m\u001b[38;5;241;43m1\u001b[39;49m\u001b[43m)\u001b[49m\n",
      "\u001b[1;31mKeyboardInterrupt\u001b[0m: "
     ]
    }
   ],
   "source": [
    "while True:\n",
    "    dict_stock = Stockdata.sample(1).to_dict(orient=\"records\")[0]\n",
    "    producer.send('Stockmarket', value=dict_stock)\n",
    "    sleep(1)                                                            ############### Below error occurs when we stop the producer"
   ]
  },
  {
   "cell_type": "code",
   "execution_count": 11,
   "id": "2e8f119f-3f87-43a5-8a9f-9c3126b81b0a",
   "metadata": {},
   "outputs": [],
   "source": [
    "producer.flush()  ########## Flush the producer"
   ]
  }
 ],
 "metadata": {
  "kernelspec": {
   "display_name": "Python 3 (ipykernel)",
   "language": "python",
   "name": "python3"
  },
  "language_info": {
   "codemirror_mode": {
    "name": "ipython",
    "version": 3
   },
   "file_extension": ".py",
   "mimetype": "text/x-python",
   "name": "python",
   "nbconvert_exporter": "python",
   "pygments_lexer": "ipython3",
   "version": "3.12.4"
  }
 },
 "nbformat": 4,
 "nbformat_minor": 5
}
